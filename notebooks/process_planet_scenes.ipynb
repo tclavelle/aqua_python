{
 "cells": [
  {
   "cell_type": "code",
   "execution_count": 1,
   "metadata": {
    "collapsed": true
   },
   "outputs": [],
   "source": [
    "# Packages\n",
    "from IPython.display import Image\n",
    "import rasterio\n",
    "from rasterio import windows\n",
    "import skimage\n",
    "import skimage.io as skio\n",
    "import json\n",
    "import skimage.draw\n",
    "import os\n",
    "import sys\n",
    "import pathlib\n",
    "import math\n",
    "import itertools\n",
    "from shutil import copy2\n",
    "import functools\n",
    "from skimage import exposure\n",
    "import matplotlib.pyplot as plt\n",
    "import matplotlib.image as mpimg\n",
    "import numpy as np\n",
    "import pandas as pd\n",
    "from rasterio.plot import show\n",
    "from osgeo import gdal"
   ]
  },
  {
   "cell_type": "code",
   "execution_count": 2,
   "metadata": {
    "collapsed": true
   },
   "outputs": [],
   "source": [
    "# Get absolute file paths. Returns generator object\n",
    "def absoluteFilePaths(directory):\n",
    "    for dirpath,_,filenames in os.walk(directory):\n",
    "       for f in filenames:\n",
    "           yield os.path.abspath(os.path.join(dirpath, f))\n",
    "\n",
    "# Normalize array\n",
    "def normalize(arr, arr_max = None):\n",
    "    ''' Function to normalize an input array to 0-1 '''\n",
    "    if not arr_max:\n",
    "        arr_max = arr.max()\n",
    "        out = arr / arr_max\n",
    "    else:\n",
    "        out = arr / arr_max\n",
    "    return arr / arr_max\n",
    "\n",
    "# Reorder Planet scenes to RGB\n",
    "def reorder_to_rgb(image):\n",
    "    '''reorders planet bands to red, green, blue for imshow'''\n",
    "    blue = normalize(image[:,:,0])\n",
    "    green = normalize(image[:,:,1])\n",
    "    red = normalize(image[:,:,2])\n",
    "    return np.stack([red, green, blue], axis=-1)\n",
    "\n",
    "# Reorder Planet scenes to RGB for RASTERIO read images (C,H,W) \n",
    "def rasterio_to_rgb(image):\n",
    "    '''reorders planet bands to red, green, blue for imshow'''\n",
    "    blue = image[0,:,:]\n",
    "    green = image[1,:,:]\n",
    "    red = image[2,:,:]\n",
    "    return np.stack([red, green, blue], axis=0)\n",
    "\n",
    "# Contrast stretching algorithm for multiband images\n",
    "def contrast_stretch_mb(img):\n",
    "    # Loop over RGB bands\n",
    "    for b in range(0,3):\n",
    "        p2, p98 = np.percentile(img[:,:,b], (2, 98))\n",
    "        img_scaled = exposure.rescale_intensity(img, in_range=(p2, p98))\n",
    "        img[:,:,b] = img_scaled[:,:,b]\n",
    "    return img\n",
    "\n",
    "# Contrast stretching for a chip with percentiles passed to it from larger image\n",
    "# Contrast stretching algorithm for multiband images\n",
    "def contrast_stretch_chip(img, percs):\n",
    "    img_out = img\n",
    "    # Loop over RGB bands\n",
    "    for b in range(0,3):\n",
    "        band_percs = percs[b]\n",
    "        p2 = band_percs[0]\n",
    "        p98 = band_percs[1]\n",
    "        band_max = band_percs[2]\n",
    "        img_norm = normalize(img, band_max)\n",
    "        img_scaled = exposure.rescale_intensity(img, in_range=(p2, p98))\n",
    "        img_scaled = exposure.rescale_intensity(img_scaled, out_range=('uint8'))\n",
    "        img_out[:,:,b] = img_scaled[:,:,b]\n",
    "    return img_out\n",
    "\n",
    "def setup_labeling(vgg_dir, chip_dir):\n",
    "    \n",
    "    \"\"\"Copy the VGG project template JSONs and the via.html file into the\n",
    "    directory of each planet_chip so labeling can begin\n",
    "    \"\"\"\n",
    "    # Check if JSON files and/or via.html exists in chip directory\n",
    "    chip_files = os.listdir(chip_dir)\n",
    "    if any (\".json\" in f for f in chip_files):\n",
    "        print(\"has labeling files\")\n",
    "    \n",
    "    # If not, copy the template jsons and via.html into the chip's directory\n",
    "    else:\n",
    "        for file in os.listdir(vgg_dir):\n",
    "            copy2(os.path.join(vgg_dir, file), chip_dir)   "
   ]
  },
  {
   "cell_type": "code",
   "execution_count": 3,
   "metadata": {
    "collapsed": false
   },
   "outputs": [],
   "source": [
    "def planet2chips(tiff_directory, chip_directory, chip_size = 512):\n",
    "    \n",
    "    \"\"\" Creates image chips (GeoTiffs and PNGs) of a GeoTiff file in a \n",
    "    specified directory and saves in new directory location \n",
    "    \"\"\"\n",
    "  \n",
    "    # Get all analytic SR GeoTiff filnames in specified directory\n",
    "    files = np.array(os.listdir(tiff_directory))\n",
    "    tiff = pd.Series(files).str.contains('SR.tif')\n",
    "    file = files[tiff][0]\n",
    "\n",
    "    # Get image name to use for creating directory\n",
    "    image_name = file.split(\"_\")[0:3]\n",
    "    image_name = \"%s_%s_%s\" % (image_name[0], image_name[1], image_name[2])\n",
    "\n",
    "    # Image chip destination directory and subdirectories\n",
    "    image_dir = os.path.join(chip_directory, image_name)   \n",
    "\n",
    "    chip_dir = os.path.join(image_dir,'chips')\n",
    "    png_dir = os.path.join(image_dir, 'pngs')\n",
    "\n",
    "    # Print filenames\n",
    "    print('filename: ' + file + '\\n' + 'image name: ' + image_name)\n",
    "\n",
    "    # Make directories to store raw and rgb image chips\n",
    "    pathlib.Path(chip_dir).mkdir(parents=True, exist_ok=True)\n",
    "    pathlib.Path(png_dir).mkdir(parents=True, exist_ok=True)\n",
    "    \n",
    "    # Iterate over image blocks - which are 256x256 - and save new GeoTiffs\n",
    "    with rasterio.open(os.path.join(tiff_directory, file)) as src:\n",
    "                \n",
    "        # Read full src image and calculate percentiles for contrast stretchin\n",
    "        full_src = src.read()\n",
    "        print(full_src.shape)\n",
    "        \n",
    "        # Create windows of desired size\n",
    "        rows1 = np.arange(0,full_src.shape[1], chip_size)\n",
    "        rows2 = np.arange(chip_size,full_src.shape[1], chip_size)\n",
    "        \n",
    "        cols1 = np.arange(0,full_src.shape[2], chip_size)\n",
    "        cols2 = np.arange(chip_size,full_src.shape[2], chip_size)\n",
    "        \n",
    "        # arrange into tuples\n",
    "        rows = list(zip(rows1, rows2))\n",
    "        cols = list(zip(cols1, cols2))\n",
    "        \n",
    "        # Arrange into tuples of windows to read\n",
    "        windows = [ (a,b) for a in rows for b in cols ]                        \n",
    "        \n",
    "        # Get block dimensions of src\n",
    "        for window in windows:\n",
    "\n",
    "            r = src.read((1,2,3,4), window=window)\n",
    "\n",
    "            if 0 in r:\n",
    "                continue\n",
    "\n",
    "            else:\n",
    "                \n",
    "                # Get start row and column for file name\n",
    "                rmin = window[0][0]\n",
    "                cmin = window[1][0]\n",
    "            \n",
    "                # Scale variable. Note bands of Planet imagery go BGR\n",
    "                b = src.read((3,2,1), window=window)\n",
    "                # Swap axis from rasterio order (C,H,W) to order expected by skio (H,W,C)\n",
    "                b = np.moveaxis(b, 0, 2)\n",
    "                b = contrast_stretch_mb(b)\n",
    "                png_file = png_dir + '/' + image_name + '_' + str(rmin) + '_' + str(cmin) + '.png'\n",
    "                skio.imsave(png_file, b)                \n",
    "\n",
    "                # Open a new GeoTiff data file in which to save the raw image chip\n",
    "                with rasterio.open((chip_dir + '/' + image_name + '_' + str(rmin) + '_' + str(cmin) + '.tif'), 'w', driver='GTiff',\n",
    "                           height=r.shape[1], width=r.shape[2], count=4,\n",
    "                           dtype=rasterio.uint16, crs=src.crs, \n",
    "                           transform=src.transform) as new_img:\n",
    "\n",
    "                    # Write the raw image to the new GeoTiff\n",
    "                    new_img.write(r)"
   ]
  },
  {
   "cell_type": "markdown",
   "metadata": {},
   "source": [
    "Apply to a test image to check performance"
   ]
  },
  {
   "cell_type": "code",
   "execution_count": null,
   "metadata": {
    "collapsed": false
   },
   "outputs": [],
   "source": [
    "# sdir = '/Users/Tyler-SFG/Desktop/Box Sync/SFG Centralized Resources/Projects/Aquaculture/Waitt Aquaculture/aqua-mapping/aqua-mapping-data/aqua-images/planet/planet_order_242451/20180830_154418_0f3c'\n",
    "# planet2chips(tiff_directory = sdir, chip_directory = sdir, chip_size = 512)    "
   ]
  },
  {
   "cell_type": "markdown",
   "metadata": {
    "collapsed": true
   },
   "source": [
    "Now we need a function to copy the VGG project templates and via.html files into each chip directory so that the chips can be labeled."
   ]
  },
  {
   "cell_type": "code",
   "execution_count": 4,
   "metadata": {
    "collapsed": false
   },
   "outputs": [],
   "source": [
    "def process_planet_orders(source_dir, target_dir):\n",
    "    \n",
    "    \"\"\"Find unique PlanetScope scenes in a directory of Planet order folders\n",
    "    and process newly added scenes into image chips\"\"\"\n",
    "    \n",
    "    # Get list of all planet orders in source directory\n",
    "    orders = np.array(next(os.walk(source_dir))[1])\n",
    "    # Add full path to each order directory\n",
    "    orders = [os.path.join(source_dir, o) for o in orders]\n",
    "    \n",
    "    scenes = []\n",
    "    scene_paths = []\n",
    "    \n",
    "    for o in orders:\n",
    "        # scenes in order\n",
    "        s_ids = np.array(next(os.walk(o))[1])\n",
    "        s_ids_paths = [os.path.join(source_dir,o,s) for s in s_ids]\n",
    "        \n",
    "        # add to lists\n",
    "        scenes.append(s_ids)\n",
    "        scene_paths.append(s_ids_paths)\n",
    "    \n",
    "    # Flatten lists\n",
    "    scenes = list(np.concatenate(scenes))\n",
    "    print(len(scenes))\n",
    "    scene_paths = list(np.concatenate(scene_paths))\n",
    "    \n",
    "    # Check which scenes already have chip folders\n",
    "    scenes_exist = np.array(next(os.walk(target_dir))[1])\n",
    "    \n",
    "    scenes_to_process = []\n",
    "    scene_paths_to_process = []\n",
    "    \n",
    "    # Remove scenes that already exist from list of scenes to process\n",
    "    for s, sp in zip(scenes, scene_paths):\n",
    "        if s not in scenes_exist:\n",
    "            scenes_to_process.append(s)\n",
    "            scene_paths_to_process.append(sp)            \n",
    "\n",
    "\n",
    "    # Apply GeoTiff chipping function to each unprocessed scene\n",
    "    for sp in scene_paths_to_process:\n",
    "        print(sp)\n",
    "        planet2chips(tiff_directory = sp, chip_directory = target_dir, chip_size = 512)    "
   ]
  },
  {
   "cell_type": "markdown",
   "metadata": {},
   "source": [
    "Apply the function to process all Planet orders presently in Box"
   ]
  },
  {
   "cell_type": "code",
   "execution_count": 5,
   "metadata": {
    "collapsed": false
   },
   "outputs": [
    {
     "name": "stdout",
     "output_type": "stream",
     "text": [
      "141\n",
      "/Users/Tyler-SFG/Desktop/Box Sync/SFG Centralized Resources/Projects/Aquaculture/Waitt Aquaculture/aqua-mapping/aqua-mapping-data/aqua-images/planet/planet_order_236949/20180825_231532_1_0f3c\n",
      "filename: 20180825_231532_1_0f3c_3B_AnalyticMS_SR.tif\n",
      "image name: 20180825_231532_1\n",
      "(4, 4510, 8605)\n"
     ]
    },
    {
     "name": "stderr",
     "output_type": "stream",
     "text": [
      "/Users/Tyler-SFG/anaconda/envs/planet/lib/python3.6/site-packages/skimage/util/dtype.py:122: UserWarning: Possible precision loss when converting from uint16 to uint8\n",
      "  .format(dtypeobj_in, dtypeobj_out))\n",
      "/Users/Tyler-SFG/anaconda/envs/planet/lib/python3.6/site-packages/ipykernel/__main__.py:44: FutureWarning: The value of this property will change in version 1.0. Please see https://github.com/mapbox/rasterio/issues/86 for details.\n",
      "/Users/Tyler-SFG/anaconda/envs/planet/lib/python3.6/site-packages/rasterio/__init__.py:160: FutureWarning: GDAL-style transforms are deprecated and will not be supported in Rasterio 1.0.\n",
      "  transform = guard_transform(transform)\n"
     ]
    },
    {
     "name": "stdout",
     "output_type": "stream",
     "text": [
      "/Users/Tyler-SFG/Desktop/Box Sync/SFG Centralized Resources/Projects/Aquaculture/Waitt Aquaculture/aqua-mapping/aqua-mapping-data/aqua-images/planet/planet_order_252429/20180224_141303_1035\n",
      "filename: 20180224_141303_1035_3B_AnalyticMS_SR.tif\n",
      "image name: 20180224_141303_1035\n",
      "(4, 4906, 9354)\n",
      "/Users/Tyler-SFG/Desktop/Box Sync/SFG Centralized Resources/Projects/Aquaculture/Waitt Aquaculture/aqua-mapping/aqua-mapping-data/aqua-images/planet/planet_order_252429/20180224_161540_0f49\n",
      "filename: 20180224_161540_0f49_3B_AnalyticMS_SR.tif\n",
      "image name: 20180224_161540_0f49\n",
      "(4, 4300, 8705)\n",
      "/Users/Tyler-SFG/Desktop/Box Sync/SFG Centralized Resources/Projects/Aquaculture/Waitt Aquaculture/aqua-mapping/aqua-mapping-data/aqua-images/planet/planet_order_252451/20180124_141121_0f31\n",
      "filename: 20180124_141121_0f31_3B_AnalyticMS_SR.tif\n",
      "image name: 20180124_141121_0f31\n",
      "(4, 4910, 9253)\n",
      "/Users/Tyler-SFG/Desktop/Box Sync/SFG Centralized Resources/Projects/Aquaculture/Waitt Aquaculture/aqua-mapping/aqua-mapping-data/aqua-images/planet/planet_order_252459/20180504_160320_1043\n",
      "filename: 20180504_160320_1043_3B_AnalyticMS_SR.tif\n",
      "image name: 20180504_160320_1043\n",
      "(4, 4121, 8406)\n",
      "/Users/Tyler-SFG/Desktop/Box Sync/SFG Centralized Resources/Projects/Aquaculture/Waitt Aquaculture/aqua-mapping/aqua-mapping-data/aqua-images/planet/planet_order_252459/20180504_160321_1043\n",
      "filename: 20180504_160321_1043_3B_AnalyticMS_SR.tif\n",
      "image name: 20180504_160321_1043\n",
      "(4, 4123, 8401)\n",
      "/Users/Tyler-SFG/Desktop/Box Sync/SFG Centralized Resources/Projects/Aquaculture/Waitt Aquaculture/aqua-mapping/aqua-mapping-data/aqua-images/planet/planet_order_252469/20180422_150741_0f51\n",
      "filename: 20180422_150741_0f51_3B_AnalyticMS_SR.tif\n",
      "image name: 20180422_150741_0f51\n",
      "(4, 4354, 8884)\n",
      "/Users/Tyler-SFG/Desktop/Box Sync/SFG Centralized Resources/Projects/Aquaculture/Waitt Aquaculture/aqua-mapping/aqua-mapping-data/aqua-images/planet/planet_order_252469/20180422_150742_0f51\n",
      "filename: 20180422_150742_0f51_3B_AnalyticMS_SR.tif\n",
      "image name: 20180422_150742_0f51\n",
      "(4, 4357, 8881)\n",
      "/Users/Tyler-SFG/Desktop/Box Sync/SFG Centralized Resources/Projects/Aquaculture/Waitt Aquaculture/aqua-mapping/aqua-mapping-data/aqua-images/planet/planet_order_252469/20180422_150743_0f51\n",
      "filename: 20180422_150743_0f51_3B_AnalyticMS_SR.tif\n",
      "image name: 20180422_150743_0f51\n",
      "(4, 4357, 8881)\n",
      "/Users/Tyler-SFG/Desktop/Box Sync/SFG Centralized Resources/Projects/Aquaculture/Waitt Aquaculture/aqua-mapping/aqua-mapping-data/aqua-images/planet/planet_order_252469/20180422_150744_0f51\n",
      "filename: 20180422_150744_0f51_3B_AnalyticMS_SR.tif\n",
      "image name: 20180422_150744_0f51\n",
      "(4, 4362, 8874)\n",
      "/Users/Tyler-SFG/Desktop/Box Sync/SFG Centralized Resources/Projects/Aquaculture/Waitt Aquaculture/aqua-mapping/aqua-mapping-data/aqua-images/planet/planet_order_252469/20180422_150745_0f51\n",
      "filename: 20180422_150745_0f51_3B_AnalyticMS_SR.tif\n",
      "image name: 20180422_150745_0f51\n",
      "(4, 4362, 8890)\n",
      "/Users/Tyler-SFG/Desktop/Box Sync/SFG Centralized Resources/Projects/Aquaculture/Waitt Aquaculture/aqua-mapping/aqua-mapping-data/aqua-images/planet/planet_order_252469/20180422_150746_0f51\n",
      "filename: 20180422_150746_0f51_3B_AnalyticMS_SR.tif\n",
      "image name: 20180422_150746_0f51\n",
      "(4, 4365, 8878)\n",
      "/Users/Tyler-SFG/Desktop/Box Sync/SFG Centralized Resources/Projects/Aquaculture/Waitt Aquaculture/aqua-mapping/aqua-mapping-data/aqua-images/planet/planet_order_252469/20180422_150747_0f51\n",
      "filename: 20180422_150747_0f51_3B_AnalyticMS_SR.tif\n",
      "image name: 20180422_150747_0f51\n",
      "(4, 4363, 8873)\n",
      "/Users/Tyler-SFG/Desktop/Box Sync/SFG Centralized Resources/Projects/Aquaculture/Waitt Aquaculture/aqua-mapping/aqua-mapping-data/aqua-images/planet/planet_order_252469/20180422_150748_0f51\n",
      "filename: 20180422_150748_0f51_3B_AnalyticMS_SR.tif\n",
      "image name: 20180422_150748_0f51\n",
      "(4, 4361, 8891)\n",
      "/Users/Tyler-SFG/Desktop/Box Sync/SFG Centralized Resources/Projects/Aquaculture/Waitt Aquaculture/aqua-mapping/aqua-mapping-data/aqua-images/planet/planet_order_252504/20180704_110702_1027\n",
      "filename: 20180704_110702_1027_3B_AnalyticMS_SR.tif\n",
      "image name: 20180704_110702_1027\n",
      "(4, 4891, 9165)\n",
      "/Users/Tyler-SFG/Desktop/Box Sync/SFG Centralized Resources/Projects/Aquaculture/Waitt Aquaculture/aqua-mapping/aqua-mapping-data/aqua-images/planet/planet_order_252504/20180704_110703_1027\n",
      "filename: 20180704_110703_1027_3B_AnalyticMS_SR.tif\n",
      "image name: 20180704_110703_1027\n",
      "(4, 4897, 9170)\n",
      "/Users/Tyler-SFG/Desktop/Box Sync/SFG Centralized Resources/Projects/Aquaculture/Waitt Aquaculture/aqua-mapping/aqua-mapping-data/aqua-images/planet/planet_order_252543/20180701_233418_100a\n",
      "filename: 20180701_233418_100a_3B_AnalyticMS_SR.tif\n",
      "image name: 20180701_233418_100a\n",
      "(4, 4763, 9235)\n",
      "/Users/Tyler-SFG/Desktop/Box Sync/SFG Centralized Resources/Projects/Aquaculture/Waitt Aquaculture/aqua-mapping/aqua-mapping-data/aqua-images/planet/planet_order_252543/20180701_233419_100a\n",
      "filename: 20180701_233419_100a_3B_AnalyticMS_SR.tif\n",
      "image name: 20180701_233419_100a\n",
      "(4, 4759, 9222)\n",
      "/Users/Tyler-SFG/Desktop/Box Sync/SFG Centralized Resources/Projects/Aquaculture/Waitt Aquaculture/aqua-mapping/aqua-mapping-data/aqua-images/planet/planet_order_252543/20180701_233420_100a\n",
      "filename: 20180701_233420_100a_3B_AnalyticMS_SR.tif\n",
      "image name: 20180701_233420_100a\n",
      "(4, 4763, 9229)\n"
     ]
    }
   ],
   "source": [
    "# Run function\n",
    "sdir = '/Users/Tyler-SFG/Desktop/Box Sync/SFG Centralized Resources/Projects/Aquaculture/Waitt Aquaculture/aqua-mapping/aqua-mapping-data/aqua-images/planet'\n",
    "tdir = '/Users/Tyler-SFG/Desktop/Box Sync/SFG Centralized Resources/Projects/Aquaculture/Waitt Aquaculture/aqua-mapping/aqua-mapping-data/aqua-images/planet_chips'\n",
    "\n",
    "# os.path.isdir(sdir)\n",
    "process_planet_orders(sdir, tdir)    "
   ]
  },
  {
   "cell_type": "markdown",
   "metadata": {},
   "source": [
    "### Move tiff files for labeled chips\n",
    "\n",
    "After a Planet scene is processed into tiff and png chips, the pngs containing objects are added to a VGG project and labeled. Labels are then saved in a `[batchname]_labels.json` file. The last step prior to uploading the chips to Tana is to create a new directory for the chip containing the raw tiff file and a directory of class specific masks."
   ]
  },
  {
   "cell_type": "code",
   "execution_count": 10,
   "metadata": {
    "collapsed": false
   },
   "outputs": [],
   "source": [
    "# Function to copy the tiffs of PNGs selected for labeling and make directories for each chip\n",
    "def copy_chip_tiffs(label_dir, chips_dir, prepped_dir):\n",
    "    \n",
    "    \"\"\" Take a VGG labeling project with PNGs and create a directory\n",
    "    for each chip in the prepped directory\n",
    "    \"\"\"\n",
    "    # Read annotations\n",
    "    pngs = os.listdir(label_dir)\n",
    "    pngs = [png for png in pngs if png != '.DS_Store'] # remove stupid DS_Store file\n",
    "    \n",
    "    # Extract filenames and drop .png extension\n",
    "    chips = [c.split('.png')[0] for c in pngs]\n",
    "    \n",
    "    # Loop over chips\n",
    "    for chip in chips:\n",
    "        \n",
    "        # Make directory for chip in prepped dir\n",
    "        chip_dir = os.path.join(prepped_dir, chip)\n",
    "        # Create \"image\" dir for tiff image\n",
    "        image_dir = os.path.join(chip_dir, 'image')\n",
    "        \n",
    "        # Make chip directory and subdirectories\n",
    "        for d in [chip_dir, image_dir]:\n",
    "            pathlib.Path(d).mkdir(parents=True, exist_ok=True)\n",
    "                \n",
    "        # Now locate the tiff file and copy into chip directory\n",
    "        # Get scene name for chip\n",
    "        scene = chip.split('_')[0:3]\n",
    "        scene = \"%s_%s_%s\" % (scene[0], scene[1], scene[2])\n",
    "        \n",
    "        # Locate and copy tiff file\n",
    "        tiff = os.path.join(chips_dir, scene, 'chips', (chip + '.tif'))\n",
    "        copy2(tiff, image_dir)"
   ]
  },
  {
   "cell_type": "markdown",
   "metadata": {},
   "source": [
    "Run function to copy tifs for selected PNGs"
   ]
  },
  {
   "cell_type": "code",
   "execution_count": 13,
   "metadata": {
    "collapsed": false
   },
   "outputs": [],
   "source": [
    "# Copy tiffs for chile cages\n",
    "labels = '/Users/Tyler-SFG/Desktop/Box Sync/SFG Centralized Resources/Projects/Aquaculture/Waitt Aquaculture/aqua-mapping/aqua-mapping-data/aqua-images/vgg/labeled/label_china/pngs'\n",
    "prepped_dir = '/Users/Tyler-SFG/Desktop/Box Sync/SFG Centralized Resources/Projects/Aquaculture/Waitt Aquaculture/aqua-mapping/aqua-mapping-data/aqua-images/prepped_planet'\n",
    "chips_dir = '/Users/Tyler-SFG/Desktop/Box Sync/SFG Centralized Resources/Projects/Aquaculture/Waitt Aquaculture/aqua-mapping/aqua-mapping-data/aqua-images/planet_chips'"
   ]
  },
  {
   "cell_type": "code",
   "execution_count": 14,
   "metadata": {
    "collapsed": false
   },
   "outputs": [],
   "source": [
    "copy_chip_tiffs(label_dir = labels, chips_dir = chips_dir, prepped_dir = prepped_dir)"
   ]
  },
  {
   "cell_type": "markdown",
   "metadata": {
    "collapsed": true
   },
   "source": [
    "Now we need a function to create the class masks for each image"
   ]
  },
  {
   "cell_type": "code",
   "execution_count": 46,
   "metadata": {
    "collapsed": false
   },
   "outputs": [],
   "source": [
    "def masks_from_labels(labels, prepped_dir):\n",
    "    \n",
    "    # Read annotations\n",
    "    annotations = json.load(open(labels))\n",
    "    annotations = list(annotations.values())  # don't need the dict keys\n",
    "    \n",
    "    # The VIA tool saves images in the JSON even if they don't have any\n",
    "    # annotations. Skip unannotated images.\n",
    "    annotations = [a for a in annotations if a['regions']]\n",
    "    \n",
    "    # Loop over chips\n",
    "    for a in annotations:\n",
    "        \n",
    "        # Get chip and directory\n",
    "        chip = a['filename'].split('.png')[0]                        \n",
    "        chip_dir = os.path.join(prepped_dir, chip)\n",
    "        \n",
    "        # Create a directory to store masks\n",
    "        masks_dir = os.path.join(chip_dir, 'class_masks')\n",
    "        pathlib.Path(masks_dir).mkdir(parents=True, exist_ok=True)\n",
    "        \n",
    "        # Read geotiff for chip\n",
    "        gtiff = chip_dir +  '/' + 'image' + '/' + chip + '.tif'\n",
    "        src = rasterio.open(gtiff)\n",
    "\n",
    "        # Use try to only extract masks for chips with complete annotations and class labels\n",
    "        try:\n",
    "\n",
    "            \"\"\"Code for processing VGG annotations from Matterport balloon color splash sample\"\"\"\n",
    "            # Load annotations\n",
    "            # VGG Image Annotator saves each image in the form:\n",
    "            # { 'filename': '28503151_5b5b7ec140_b.jpg',\n",
    "            #   'regions': {\n",
    "            #       '0': {\n",
    "            #           'region_attributes': {},\n",
    "            #           'shape_attributes': {\n",
    "            #               'all_points_x': [...],\n",
    "            #               'all_points_y': [...],\n",
    "            #               'name': 'polygon'}},\n",
    "            #       ... more regions ...\n",
    "            #   },\n",
    "            #   'size': 100202\n",
    "            # } \n",
    "\n",
    "            # Get the aquaculture class of each polygon    \n",
    "            polygon_types = [r['region_attributes'] for r in a['regions']]        \n",
    "\n",
    "            # Get unique aquaculture classes in annotations\n",
    "            types = set(val for dic in polygon_types for val in dic.values())            \n",
    "\n",
    "            for t in types:\n",
    "                # Get the x, y coordinaets of points of the polygons that make up\n",
    "                # the outline of each object instance. There are stores in the\n",
    "                # shape_attributes (see json format above) \n",
    "\n",
    "                # Pull out polygons of that type               \n",
    "                polygons = [r['shape_attributes'] for r in a['regions'] if r['region_attributes']['class'] == t]            \n",
    "\n",
    "                # Draw mask using height and width of Geotiff\n",
    "                mask = np.zeros([src.height, src.width], dtype=np.uint8)\n",
    "\n",
    "                for p in polygons:\n",
    "\n",
    "                    # Get indexes of pixels inside the polygon and set them to 1\n",
    "                    rr, cc = skimage.draw.polygon(p['all_points_y'], p['all_points_x'])                    \n",
    "                    mask[rr, cc] = 1            \n",
    "\n",
    "                # Open a new GeoTiff data file in which to save the image chip\n",
    "                with rasterio.open((masks_dir + '/' + chip + '_' + str(t) + '_mask.tif'), 'w', driver='GTiff',\n",
    "                           height=src.shape[0], width=src.shape[1], count=1,\n",
    "                           dtype=rasterio.ubyte, crs=src.crs, \n",
    "                           transform=src.transform) as new_img:\n",
    "\n",
    "                    # Write the rescaled image to the new GeoTiff\n",
    "                    new_img.write(mask.astype('uint8'),1)\n",
    "\n",
    "        except KeyError:                \n",
    "            print(chip + ' missing aquaculture class assignment')\n",
    "            # write chip name to file for double checking\n",
    "            continue\n",
    "        "
   ]
  },
  {
   "cell_type": "markdown",
   "metadata": {},
   "source": [
    "Run function to create masks"
   ]
  },
  {
   "cell_type": "code",
   "execution_count": 44,
   "metadata": {
    "collapsed": true
   },
   "outputs": [],
   "source": [
    "labels = \"/Users/Tyler-SFG/Desktop/Box Sync/SFG Centralized Resources/Projects/Aquaculture/Waitt Aquaculture/aqua-mapping/aqua-mapping-data/aqua-images/vgg/labeled/label_china/20180410_020421_0f31_labels.json\"\n",
    "prepped_dir = '/Users/Tyler-SFG/Desktop/Box Sync/SFG Centralized Resources/Projects/Aquaculture/Waitt Aquaculture/aqua-mapping/aqua-mapping-data/aqua-images/prepped_planet/china_20180918'"
   ]
  },
  {
   "cell_type": "code",
   "execution_count": 47,
   "metadata": {
    "collapsed": false
   },
   "outputs": [
    {
     "name": "stderr",
     "output_type": "stream",
     "text": [
      "/Users/Tyler-SFG/anaconda/envs/planet/lib/python3.6/site-packages/ipykernel/__main__.py:1: FutureWarning: The value of this property will change in version 1.0. Please see https://github.com/mapbox/rasterio/issues/86 for details.\n",
      "  if __name__ == '__main__':\n",
      "/Users/Tyler-SFG/anaconda/envs/planet/lib/python3.6/site-packages/rasterio/__init__.py:160: FutureWarning: GDAL-style transforms are deprecated and will not be supported in Rasterio 1.0.\n",
      "  transform = guard_transform(transform)\n"
     ]
    },
    {
     "name": "stdout",
     "output_type": "stream",
     "text": [
      "20180410_020421_0f31_3_4 missing aquaculture class assignment\n",
      "20180410_020421_0f31_6_12 missing aquaculture class assignment\n"
     ]
    }
   ],
   "source": [
    "masks_from_labels(labels = labels, prepped_dir = prepped_dir)"
   ]
  },
  {
   "cell_type": "code",
   "execution_count": null,
   "metadata": {
    "collapsed": true
   },
   "outputs": [],
   "source": []
  }
 ],
 "metadata": {
  "kernelspec": {
   "display_name": "Python [conda env:planet]",
   "language": "python",
   "name": "conda-env-planet-py"
  },
  "language_info": {
   "codemirror_mode": {
    "name": "ipython",
    "version": 3
   },
   "file_extension": ".py",
   "mimetype": "text/x-python",
   "name": "python",
   "nbconvert_exporter": "python",
   "pygments_lexer": "ipython3",
   "version": "3.6.5"
  }
 },
 "nbformat": 4,
 "nbformat_minor": 2
}
