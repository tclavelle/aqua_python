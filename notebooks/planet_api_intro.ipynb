{
 "cells": [
  {
   "cell_type": "markdown",
   "metadata": {},
   "source": [
    "# Introduction to the Planet API\n",
    "\n",
    "This notebook contains basic code to interact with the Planet API"
   ]
  },
  {
   "cell_type": "code",
   "execution_count": 1,
   "metadata": {
    "collapsed": false
   },
   "outputs": [],
   "source": [
    "# Load modules (install if necessary)\n",
    "import os\n",
    "import requests\n",
    "import geojsonio\n",
    "import planet\n",
    "\n",
    "# Import Planet config script\n",
    "import planet_config"
   ]
  },
  {
   "cell_type": "markdown",
   "metadata": {},
   "source": [
    "## Authentication\n",
    "\n",
    "The first step is to authenticate our connection to the Planet API using our Planet API key. To keep this key secret, we first export it as an environment variable on our system using `export PL_API_KEY=\"<MY API KEY>\"`"
   ]
  },
  {
   "cell_type": "code",
   "execution_count": 2,
   "metadata": {
    "collapsed": false
   },
   "outputs": [
    {
     "name": "stdout",
     "output_type": "stream",
     "text": [
      "5de1bd9ab9f74d0a94fd234d0e4c11a7\n"
     ]
    }
   ],
   "source": [
    "# RUN AFTER PUTTING IN API KEY \n",
    "os.environ['PL_API_KEY'] = planet_config.MY_API_KEY\n",
    "print(os.getenv('PL_API_KEY'))"
   ]
  },
  {
   "cell_type": "code",
   "execution_count": 3,
   "metadata": {
    "collapsed": false
   },
   "outputs": [],
   "source": [
    "# Create API key variable from environment variable\n",
    "PLANET_API_KEY = os.getenv('PL_API_KEY')"
   ]
  },
  {
   "cell_type": "code",
   "execution_count": 4,
   "metadata": {
    "collapsed": false
   },
   "outputs": [],
   "source": [
    "# Helper function to print formatted JSON using the json module\n",
    "def p(data):\n",
    "    print(json.dumps(data, indent=2))"
   ]
  },
  {
   "cell_type": "markdown",
   "metadata": {},
   "source": [
    "### First Request\n",
    "To get started, we need to start a session and authenticate it using the Planet API base URL and our API key"
   ]
  },
  {
   "cell_type": "code",
   "execution_count": 5,
   "metadata": {
    "collapsed": true
   },
   "outputs": [],
   "source": [
    "# Setup Planet Data API base URL\n",
    "URL = \"https://api.planet.com/data/v1\"\n",
    "\n",
    "# Setup the session\n",
    "session = requests.Session()\n",
    "\n",
    "# Authenticate\n",
    "session.auth = (PLANET_API_KEY, \"\")\n",
    "\n",
    "# Make a GET request to the Planet Data API\n",
    "res = session.get(URL)"
   ]
  },
  {
   "cell_type": "markdown",
   "metadata": {},
   "source": [
    "Check the status of the API response, which should be `200` to indicate that everything is ok."
   ]
  },
  {
   "cell_type": "code",
   "execution_count": 6,
   "metadata": {
    "collapsed": false
   },
   "outputs": [
    {
     "data": {
      "text/plain": [
       "200"
      ]
     },
     "execution_count": 6,
     "metadata": {},
     "output_type": "execute_result"
    }
   ],
   "source": [
    "# Check status of request\n",
    "res.status_code"
   ]
  },
  {
   "cell_type": "markdown",
   "metadata": {},
   "source": [
    "### Check Quota Usage\n",
    "\n",
    "The Planet Research & Education Program provides researchers with a monthly quota of 10,000 km^2 of imagery. To make sure we are using our quota effectively, we should regularly check how much quota we have remaining."
   ]
  },
  {
   "cell_type": "code",
   "execution_count": 9,
   "metadata": {
    "collapsed": false
   },
   "outputs": [],
   "source": [
    "URL = \"https://api.planet.com/auth/v1/experimental/public/my/subscriptions\"\n",
    "res = session.get(URL)"
   ]
  },
  {
   "cell_type": "markdown",
   "metadata": {},
   "source": [
    "Printing the JSON response shows us all the information about our subsciption, including the `quota_sqkm` and `quota_used` values."
   ]
  },
  {
   "cell_type": "code",
   "execution_count": 10,
   "metadata": {
    "collapsed": false
   },
   "outputs": [
    {
     "data": {
      "text/plain": [
       "[{'active_from': '2018-04-16T00:00:00+00:00',\n",
       "  'active_to': None,\n",
       "  'created_at': '2018-04-16T21:31:48.444551+00:00',\n",
       "  'datadrop_anchor_date': '2018-04-01T00:00:00+00:00',\n",
       "  'datadrop_enabled': False,\n",
       "  'datadrop_interval': None,\n",
       "  'deleted_at': None,\n",
       "  'id': 71669,\n",
       "  'organization': {'id': 57163, 'name': ' tyler_clavelle@ucsb.edu'},\n",
       "  'organization_id': 57163,\n",
       "  'plan': {'id': 76, 'name': 'Open California', 'state': 'active'},\n",
       "  'plan_id': 76,\n",
       "  'quota_anchor_date': '2018-04-01T00:00:00+00:00',\n",
       "  'quota_enabled': True,\n",
       "  'quota_interval': 'daily',\n",
       "  'quota_sqkm': 4000,\n",
       "  'quota_style': 'consumption',\n",
       "  'quota_used': 0.0,\n",
       "  'reference': '-',\n",
       "  'selected_operations': None,\n",
       "  'state': 'active',\n",
       "  'updated_at': '2018-04-16T21:31:48.444551+00:00',\n",
       "  'url': 'https://api.planet.com/auth/v1/experimental/public/subscriptions/71669'},\n",
       " {'active_from': '2018-04-16T00:00:00+00:00',\n",
       "  'active_to': None,\n",
       "  'created_at': '2018-04-16T21:31:27.899341+00:00',\n",
       "  'datadrop_anchor_date': '2018-04-01T00:00:00+00:00',\n",
       "  'datadrop_enabled': False,\n",
       "  'datadrop_interval': None,\n",
       "  'deleted_at': None,\n",
       "  'id': 71668,\n",
       "  'organization': {'id': 57163, 'name': ' tyler_clavelle@ucsb.edu'},\n",
       "  'organization_id': 57163,\n",
       "  'plan': {'id': 1243,\n",
       "   'name': 'Education and Research Standard (PlanetScope)',\n",
       "   'state': 'active'},\n",
       "  'plan_id': 1243,\n",
       "  'quota_anchor_date': '2018-04-01T00:00:00+00:00',\n",
       "  'quota_enabled': True,\n",
       "  'quota_interval': 'monthly',\n",
       "  'quota_sqkm': 10000,\n",
       "  'quota_style': 'consumption',\n",
       "  'quota_used': 7176.16240474736,\n",
       "  'reference': '-',\n",
       "  'selected_operations': None,\n",
       "  'state': 'active',\n",
       "  'updated_at': '2018-04-16T21:31:27.899341+00:00',\n",
       "  'url': 'https://api.planet.com/auth/v1/experimental/public/subscriptions/71668'},\n",
       " {'active_from': '2018-04-16T00:00:00+00:00',\n",
       "  'active_to': None,\n",
       "  'created_at': '2018-04-16T21:30:58.994544+00:00',\n",
       "  'datadrop_anchor_date': '2018-04-01T00:00:00+00:00',\n",
       "  'datadrop_enabled': False,\n",
       "  'datadrop_interval': None,\n",
       "  'deleted_at': None,\n",
       "  'id': 71667,\n",
       "  'organization': {'id': 57163, 'name': ' tyler_clavelle@ucsb.edu'},\n",
       "  'organization_id': 57163,\n",
       "  'plan': {'id': 1244,\n",
       "   'name': 'Education and Research Standard (Landsat/Sentinel)',\n",
       "   'state': 'active'},\n",
       "  'plan_id': 1244,\n",
       "  'quota_anchor_date': '2018-04-01T00:00:00+00:00',\n",
       "  'quota_enabled': True,\n",
       "  'quota_interval': 'monthly',\n",
       "  'quota_sqkm': 1000000,\n",
       "  'quota_style': 'consumption',\n",
       "  'quota_used': 0.0,\n",
       "  'reference': '-',\n",
       "  'selected_operations': None,\n",
       "  'state': 'active',\n",
       "  'updated_at': '2018-04-16T21:30:58.994544+00:00',\n",
       "  'url': 'https://api.planet.com/auth/v1/experimental/public/subscriptions/71667'}]"
      ]
     },
     "execution_count": 10,
     "metadata": {},
     "output_type": "execute_result"
    }
   ],
   "source": [
    "res.json()"
   ]
  },
  {
   "cell_type": "code",
   "execution_count": null,
   "metadata": {
    "collapsed": true
   },
   "outputs": [],
   "source": []
  }
 ],
 "metadata": {
  "kernelspec": {
   "display_name": "Python [conda env:planet]",
   "language": "python",
   "name": "conda-env-planet-py"
  },
  "language_info": {
   "codemirror_mode": {
    "name": "ipython",
    "version": 3
   },
   "file_extension": ".py",
   "mimetype": "text/x-python",
   "name": "python",
   "nbconvert_exporter": "python",
   "pygments_lexer": "ipython3",
   "version": "3.6.5"
  }
 },
 "nbformat": 4,
 "nbformat_minor": 2
}
