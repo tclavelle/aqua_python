{
 "cells": [
  {
   "cell_type": "code",
   "execution_count": null,
   "metadata": {
    "collapsed": true
   },
   "outputs": [],
   "source": [
    "\"\"\"\n",
    "Deep Learning for Aquaculture Detection\n",
    "Planet Imagery Processing Functions\n",
    "\n",
    "Written by Tyler Clavelle\n",
    "\"\"\"\n",
    "\n",
    "import rasterio\n",
    "from rasterio import windows\n",
    "import skimage\n",
    "import skimage.io as skio\n",
    "from skimage import exposure\n",
    "import os\n",
    "import sys\n",
    "import pathlib\n",
    "import math\n",
    "import itertools\n",
    "import functools\n",
    "import numpy as np\n",
    "import pandas as pd\n",
    "from rasterio.plot import show\n",
    "from osgeo import gdal\n",
    "\n",
    "# class PlanetOrder(object):\n",
    "    \n",
    "#     \"\"\"\n",
    "#     Class for each Planet order. Contains functions to process individual scenes in each order and\n",
    "#     prepare them for labeling\n",
    "#     \"\"\"\n",
    "    \n",
    "#     def __init__(self):\n",
    "#         self.order_ids = [] # Initialize list of Planet order ids"
   ]
  }
 ],
 "metadata": {
  "kernelspec": {
   "display_name": "Python [conda env:planet]",
   "language": "python",
   "name": "conda-env-planet-py"
  },
  "language_info": {
   "codemirror_mode": {
    "name": "ipython",
    "version": 3
   },
   "file_extension": ".py",
   "mimetype": "text/x-python",
   "name": "python",
   "nbconvert_exporter": "python",
   "pygments_lexer": "ipython3",
   "version": "3.6.5"
  }
 },
 "nbformat": 4,
 "nbformat_minor": 2
}
